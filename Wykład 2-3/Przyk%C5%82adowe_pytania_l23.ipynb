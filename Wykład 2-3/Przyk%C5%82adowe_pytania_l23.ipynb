{
 "cells": [
  {
   "cell_type": "markdown",
   "metadata": {},
   "source": [
    "# Przykładowe pytania - wykłady 2-3"
   ]
  },
  {
   "cell_type": "markdown",
   "metadata": {},
   "source": [
    "1. W jaki sposób działa algorytm z nawrotami (<i>backtracking</i>)?\n",
    "2. Jakie są alternatywne do backtrackingu sposoby rozwiązywania sekwencyjnych sposobów decyzyjnych? Omów ich wady i zalety\n",
    "3. Co to jest proces decyzyjny Markowa? Z jakich elementów się składa? \n",
    "4. Wyjaśnij różnicę pomiędzy uczeniem Monte Carlo a uczeniem różnicowym (<i>temporal difference learning</i>).\n",
    "5. Wyjaśnij na czym polega wybór pomiędzy eksploracją a eksploatacją w uczeniu różnicowym. "
   ]
  }
 ],
 "metadata": {
  "kernelspec": {
   "display_name": "Julia 1.0.0",
   "language": "julia",
   "name": "julia-1.0"
  },
  "language_info": {
   "file_extension": ".jl",
   "mimetype": "application/julia",
   "name": "julia",
   "version": "1.0.0"
  }
 },
 "nbformat": 4,
 "nbformat_minor": 2
}
