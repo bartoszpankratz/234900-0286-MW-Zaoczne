{
 "cells": [
  {
   "cell_type": "markdown",
   "metadata": {},
   "source": [
    "# Prace domowe - Modelowanie Wieloagentowe"
   ]
  },
  {
   "cell_type": "markdown",
   "metadata": {},
   "source": [
    "W tym pliku podane są polecenia do 4 obowiązkowych prac domowych. Obowiązkowe prace domowe można zastąpić zadaniami dodatkowymi dostępnymi na slajdach udostępnianych w trakcie wykładu. Rozwiązania należy wysłać na mail: [bpankra@sgh.waw.pl](mailto: bpankra@sgh.waw.pl).\n",
    "\n",
    "<b>Termin oddania: 27 stycznia 2020</b>"
   ]
  },
  {
   "cell_type": "markdown",
   "metadata": {},
   "source": [
    "## Zadanie 1\n",
    "\n",
    "<b>Dodatkowe zadanie domowe 1</b> z materiałów dostępnych [tutaj](bogumilkaminski.pl/files/mw/w1_mw.zip).\n",
    "\n",
    "## Zadanie 2 \n",
    "\n",
    "<b>Część 1</b> dodatkowego zadania domowego 4 dostępnego [tutaj](https://github.com/bartoszpankratz/234900-0286-MW-Zaoczne/blob/master/Wyk%C5%82ad%202-3/L2.pdf).\n",
    "\n",
    "## Zadanie 3\n",
    "\n",
    "\n",
    "\n",
    "\n",
    "Dla przedstawionego na zajęciach kodu modelu segregacji Schellinga należy:\n",
    "\n",
    "- Zbadać w jaki sposób zmiana parametrów similar_wanted i density zmienia końcową wartość parametru avg_similarity.\n",
    "- Zmienić sąsiedztwo Moore'a na sąsiedztwo von Neumanna.\n",
    "- Sprawdzić w jaki sposób ta modyfikacja zmiania otrzymane wyniki.\n",
    "\n",
    "## Zadanie 4"
   ]
  }
 ],
 "metadata": {
  "kernelspec": {
   "display_name": "Julia 1.0.0",
   "language": "julia",
   "name": "julia-1.0"
  },
  "language_info": {
   "file_extension": ".jl",
   "mimetype": "application/julia",
   "name": "julia",
   "version": "1.0.0"
  }
 },
 "nbformat": 4,
 "nbformat_minor": 2
}
